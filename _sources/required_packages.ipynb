{
 "cells": [
  {
   "cell_type": "markdown",
   "id": "9aa1d30e",
   "metadata": {},
   "source": [
    "# Required packages and data\n",
    "\n",
    "If you are running these practicals on your own laptop then you will need to install\n",
    "quite a few packages to get the code to run\n",
    "\n",
    "## Required packages\n",
    "\n",
    "The following sections give the core packages required and then practical specific\n",
    "packages.\n",
    "\n",
    "## Core GIS function and data packages\n",
    "\n",
    "```r\n",
    "install.packages('terra')    # Core raster GIS data package\n",
    "install.packages('sf')       # Core vector GIS data package\n",
    "install.packages('raster')   # Older raster GIS package required by some packages\n",
    "install.packages('geodata')  # Data downloader\n",
    "\n",
    "install.packages('sp')        # Older vector GIS package - replaced by sf in most cases\n",
    "install.packages('rgeos')     # Extended vector data functionality\n",
    "install.packages('rgdal')     # Interface to the Geospatial Data Abstraction Library\n",
    "install.packages('lwgeom')    # Lightweight geometry engine\n",
    "```\n",
    "\n",
    "### Practical 1\n",
    "\n",
    "```r\n",
    "install.packages('openxlsx')   # Read data from Excel \n",
    "install.packages('ggplot2')    # Plotting package\n",
    "install.packages('gridExtra')  # Extensions to ggplot\n",
    "```\n",
    "\n",
    "### Practical 2\n",
    "\n",
    "```r\n",
    "install.packages('dismo')      # Species distribution models\n",
    "```\n",
    "\n",
    "### Practical 3\n",
    "\n",
    "```r\n",
    "install.packages('ncf')          \n",
    "install.packages('SpatialPack')  # Spatial clifford test\n",
    "install.packages('spdep')        # Spatial dependence models\n",
    "install.packages('spatialreg')   # Spatial regression using lags\n",
    "install.packages('nlme')         # GLS models\n",
    "install.packages('spgwr')        # Geographic weighted regression\n",
    "install.packages('spmoran')      # Moran's I and Geary C\n",
    "```\n",
    "\n",
    "### Landscape Ecology Week\n",
    "\n",
    "``` r\n",
    "install.packages('landscapemetrics')\n",
    "install.packages('vegan')\n",
    "```\n",
    "\n",
    "## Required Data\n",
    "\n",
    "Download and extract the `data.zip` file into your R project working directory. This is\n",
    "a single large (~190 MB) file that contains all of the data required for all the\n",
    "practicals. The file will be available from the module Blackboard and/or Teams site.\n",
    "\n",
    "Make sure that:\n",
    "\n",
    "* the resulting folder is called `data` and,\n",
    "* that your practical scripts are in the root of the project.\n",
    "\n",
    "This should ensure that the paths used in the practical match your local setup."
   ]
  }
 ],
 "metadata": {
  "jupytext": {
   "formats": "md:myst",
   "text_representation": {
    "extension": ".md",
    "format_name": "myst",
    "format_version": 0.13,
    "jupytext_version": "1.11.5"
   }
  },
  "kernelspec": {
   "display_name": "R 4.2.0",
   "language": "R",
   "name": "ir420"
  },
  "language_info": {
   "codemirror_mode": "r",
   "file_extension": ".r",
   "mimetype": "text/x-r-source",
   "name": "R",
   "pygments_lexer": "r",
   "version": "4.2.0"
  },
  "source_map": [
   13
  ]
 },
 "nbformat": 4,
 "nbformat_minor": 5
}
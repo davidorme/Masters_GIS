{
 "cells": [
  {
   "cell_type": "markdown",
   "id": "ae7270ba",
   "metadata": {},
   "source": [
    "# Introduction to the practicals\n",
    "\n",
    "These practicals introduce a core set of GIS concepts and functions in R and then\n",
    "explore some more common use cases.\n",
    "\n",
    "All of these practicals are **self-paced**: you can work through them at your own speed\n",
    "and call out when you need help.\n",
    "\n",
    "## Three before 'me'\n",
    "\n",
    "There will be a team of demonstrators to help you when you get stuck but please do\n",
    "remember that helping yourself is actually a far better way to learn. We do *not* want\n",
    "you to struggle but before you reach out to a demonstrator:\n",
    "\n",
    "1. Ask *yourself* what you are trying to do: often stepping back and trying to write out\n",
    "   an explanation for your problem helps you solve it.\n",
    "\n",
    "1. Ask the *internet*: Sites like [stackoverflow.com](https://stackoverflow.com) are an\n",
    "   invaluable resource and you can use *tags* on `stackoverflow` (e.g. `[R]` or `[sf]`)\n",
    "   to narrow down your search.\n",
    "\n",
    "1. Ask *each other*: it can be really helpful to get together in a short Team meeting\n",
    "   and crowd source an answer.\n",
    "\n",
    "If none of those work then ask us!\n",
    "\n",
    "## Getting started\n",
    "\n",
    "* Each practical has its own RStudio Cloud Project. This will contain all of the data\n",
    "  needed for the practical and will have the required packages pre-installed.\n",
    "\n",
    "* If you are working on your own computer, you will need to install those packages and\n",
    "  the data required in the practical. There are quite a lot of required packages - they\n",
    "  could take a little while to set up. See [here](required_packages.md) for details of\n",
    "  the packages and data you will need.\n",
    "\n",
    "* Once you have your project launched or a local working directory set up and are\n",
    "  running in R then **create a new script file to record and run your code**.\n",
    "\n",
    "* Work through the handouts at your own pace.\n",
    "\n",
    "## GIS packages\n",
    "\n",
    "There are loads of R packages that can load, manipulate and plot GIS data and we will be\n",
    "using several in these practical. In the last few years, the R spatial data community\n",
    "has been working on updating most of the core GIS functionality into a few core\n",
    "packages, notably `sf` and `terra`. We will focus on using these up-to-date central\n",
    "packages, but there will be some occasions where we need to use older packages, such as\n",
    "`sp` and `raster`.\n",
    "\n",
    "## Tasks\n",
    "\n",
    "```{admonition} Introducing tasks\n",
    "---\n",
    "class: tip\n",
    "---\n",
    "A lot of these practicals will consist of following provided code to understand how it\n",
    "works but occasionally there will be **tasks** to test the skills you have been\n",
    "learning. These will start with a task bar like the one above and then have a\n",
    "description like this one. There will then always be a button marked 'Click to show': if\n",
    "you get really stuck, you can click on this to show a solution. Do try and figure it out\n",
    "for yourself and if you don't understand something, ask a demonstrator to help.\n",
    "```\n",
    "\n",
    "```{toggle}\n",
    "Hey! No peeking\n",
    "```"
   ]
  }
 ],
 "metadata": {
  "jupytext": {
   "formats": "md:myst",
   "text_representation": {
    "extension": ".md",
    "format_name": "myst",
    "format_version": 0.13,
    "jupytext_version": "1.11.5"
   }
  },
  "kernelspec": {
   "display_name": "R 4.2.0",
   "language": "R",
   "name": "ir420"
  },
  "language_info": {
   "codemirror_mode": "r",
   "file_extension": ".r",
   "mimetype": "text/x-r-source",
   "name": "R",
   "pygments_lexer": "r",
   "version": "4.2.0"
  },
  "source_map": [
   13
  ]
 },
 "nbformat": 4,
 "nbformat_minor": 5
}